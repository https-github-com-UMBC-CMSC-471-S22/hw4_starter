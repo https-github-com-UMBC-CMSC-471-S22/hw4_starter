{
 "cells": [
  {
   "cell_type": "markdown",
   "metadata": {
    "id": "niV2fFkQLfxv"
   },
   "source": [
    "## This simple notebook shows how to compute the validity and satisfiability of logical sentences and to set up a simple KB agent for propositional logic with functions from AIMA logic.py"
   ]
  },
  {
   "cell_type": "markdown",
   "metadata": {
    "id": "b9alRCRqLfx0"
   },
   "source": [
    "To run on Colab, make sure you are logged into Google, uncomment the lines in the following cell, and run it once. This asks the operating system to pip install a package required by logic.py, clone the aima repository in your temporarary file system and then cd to the aima directory so you can import python files.\n",
    "\n"
   ]
  },
  {
   "cell_type": "code",
   "execution_count": 1,
   "metadata": {
    "id": "RM6dkRabLfx0"
   },
   "outputs": [
    {
     "name": "stdout",
     "output_type": "stream",
     "text": [
      "\u001b[33mWARNING: You are using pip version 22.0.3; however, version 22.0.4 is available.\n",
      "You should consider upgrading via the '/Users/finin/miniforge3/envs/m1/bin/python3 -m pip install --upgrade pip' command.\u001b[0m\u001b[33m\n",
      "\u001b[0m\u001b[31mERROR: Could not find a version that satisfies the requirement notebook4e (from versions: none)\u001b[0m\u001b[31m\n",
      "\u001b[0m\u001b[31mERROR: No matching distribution found for notebook4e\u001b[0m\u001b[31m\n",
      "\u001b[0m\u001b[33mWARNING: You are using pip version 22.0.3; however, version 22.0.4 is available.\n",
      "You should consider upgrading via the '/Users/finin/miniforge3/envs/m1/bin/python3 -m pip install --upgrade pip' command.\u001b[0m\u001b[33m\n",
      "\u001b[0m\u001b[33mWARNING: You are using pip version 22.0.3; however, version 22.0.4 is available.\n",
      "You should consider upgrading via the '/Users/finin/miniforge3/envs/m1/bin/python3 -m pip install --upgrade pip' command.\u001b[0m\u001b[33m\n",
      "\u001b[0mfatal: destination path 'aima-python' already exists and is not an empty directory.\n",
      "/Users/finin/Teaching/AI/471/2022s/hw/hw4/HW4_starter/aima-python\n"
     ]
    },
    {
     "data": {
      "text/plain": [
       "'done'"
      ]
     },
     "execution_count": 1,
     "metadata": {},
     "output_type": "execute_result"
    }
   ],
   "source": [
    "!pip -q install qpsolvers\n",
    "!pip -q install notebook4e\n",
    "!pip -q install sortedcontainers\n",
    "!git clone https://github.com/aimacode/aima-python.git;\n",
    "%cd aima-python\n",
    "#!ls\n",
    "'done'"
   ]
  },
  {
   "cell_type": "code",
   "execution_count": 2,
   "metadata": {
    "id": "FvLSEMI0Lfx1"
   },
   "outputs": [],
   "source": [
    "from logic import *"
   ]
  },
  {
   "cell_type": "code",
   "execution_count": 3,
   "metadata": {},
   "outputs": [
    {
     "name": "stdout",
     "output_type": "stream",
     "text": [
      "(((((P1 ^ P2) ^ P3) & ~(P1 & P2)) & ~(P2 & P3)) & ~(P1 & P3))\n",
      "{P3: True, P2: False, P1: False}\n"
     ]
    }
   ],
   "source": [
    "var0 = expr('(P1 ^ P2 ^ P3) & (~(P1 & P2) & ~(P2 & P3) &  ~(P1 & P3))')\n",
    "var = var = expr('(P1 ^ P2 ^ P3) & ~(P1 & P2) & ~(P2 & P3) &  ~(P1 & P3)')\n",
    "print(var)\n",
    "print(dpll_satisfiable(var))\n"
   ]
  },
  {
   "cell_type": "markdown",
   "metadata": {
    "id": "emUQJu1tLfx1"
   },
   "source": [
    "The AIMA logic.py function **expr** to create an **Expression object** from a string in which identifiers are automatically defined as Symbols and ==> is treated as an infix |'==>'|, as are <== and <=>. If the argument is already an Expression, it is returned unchanged."
   ]
  },
  {
   "cell_type": "code",
   "execution_count": null,
   "metadata": {
    "id": "Yui9c0HlLfx2"
   },
   "outputs": [],
   "source": [
    "foo = expr('P ==> Q')"
   ]
  },
  {
   "cell_type": "markdown",
   "metadata": {
    "id": "DDmSQRVcLfx2"
   },
   "source": [
    "The expr class (in utils.py) has a __repr__ method that is called when an instance is printed to return a string representation."
   ]
  },
  {
   "cell_type": "code",
   "execution_count": null,
   "metadata": {
    "colab": {
     "base_uri": "https://localhost:8080/"
    },
    "id": "-cthPJ4-Lfx2",
    "outputId": "2e187341-b0ce-4863-bd4f-1c75a6e4cdd9"
   },
   "outputs": [],
   "source": [
    "print(f\"type:{type(foo)}; {foo}\")"
   ]
  },
  {
   "cell_type": "markdown",
   "metadata": {
    "id": "1PtZcls0Lfx3"
   },
   "source": [
    "Since a **knowledge base** (KB) is just a set of sentences that are all taken to be true, we can represent it as a conjunction of sentences.  This next expr can be thought of as a KB with three sentences."
   ]
  },
  {
   "cell_type": "code",
   "execution_count": null,
   "metadata": {
    "colab": {
     "base_uri": "https://localhost:8080/"
    },
    "id": "wfPjQue2Lfx3",
    "outputId": "239fb1bc-8b3a-4092-bd23-03b34bcd4766"
   },
   "outputs": [],
   "source": [
    "expr('P & (P ==> Q) & (~P ==> R)')"
   ]
  },
  {
   "cell_type": "markdown",
   "metadata": {
    "id": "LMJa5FnbLfx4"
   },
   "source": [
    "The **tt_true** function checks an expression object to see if it is valid, i.e., true in all possible models.  A valid sentence is true for all possible assignments of true and false to its variables."
   ]
  },
  {
   "cell_type": "code",
   "execution_count": null,
   "metadata": {
    "colab": {
     "base_uri": "https://localhost:8080/"
    },
    "id": "W2dowDzaLfx4",
    "outputId": "5fe4c458-910d-430e-fd43-f18b281f7ed8"
   },
   "outputs": [],
   "source": [
    "tt_true(expr('P'))"
   ]
  },
  {
   "cell_type": "code",
   "execution_count": null,
   "metadata": {
    "colab": {
     "base_uri": "https://localhost:8080/"
    },
    "id": "-ovFE01zLfx4",
    "outputId": "abb3e68f-aaf4-42ea-8452-b1bdf7fb34eb"
   },
   "outputs": [],
   "source": [
    "tt_true(expr('P | ~ P'))"
   ]
  },
  {
   "cell_type": "code",
   "execution_count": null,
   "metadata": {
    "colab": {
     "base_uri": "https://localhost:8080/"
    },
    "id": "KaXmUSWPLfx4",
    "outputId": "8684d3f6-a10e-44d8-e978-f695e47f9120"
   },
   "outputs": [],
   "source": [
    "tt_true(expr('(P ==> Q) <=> (~P | Q)'))"
   ]
  },
  {
   "cell_type": "markdown",
   "metadata": {
    "id": "a45vohFFLfx5"
   },
   "source": [
    "**dpll_satisfiable** checks satisfiability of a propositional sentence, returning a *model* if it is satisfiable and *False* if not.  The model is represented as dictionary with the propositional variables as the keys and True or Fase as their values."
   ]
  },
  {
   "cell_type": "code",
   "execution_count": null,
   "metadata": {
    "colab": {
     "base_uri": "https://localhost:8080/"
    },
    "id": "cy4jYS-_Lfx5",
    "outputId": "8dc99370-839b-4b4d-f864-3ba3fd5825b7"
   },
   "outputs": [],
   "source": [
    "dpll_satisfiable(expr('P & Q'))"
   ]
  },
  {
   "cell_type": "markdown",
   "metadata": {
    "id": "rIX9juFoLfx5"
   },
   "source": [
    "Note that if there are multiple ways that a sentence can be satisfied, only one model is shown and it may be a minimal model, i.e., not including vaues for variables that can be either True or False."
   ]
  },
  {
   "cell_type": "code",
   "execution_count": null,
   "metadata": {
    "colab": {
     "base_uri": "https://localhost:8080/"
    },
    "id": "0uAOBFR2Lfx6",
    "outputId": "f4f9261f-38ce-47e2-f947-33233d869e87"
   },
   "outputs": [],
   "source": [
    "dpll_satisfiable(expr('P | Q'))"
   ]
  },
  {
   "cell_type": "code",
   "execution_count": null,
   "metadata": {
    "colab": {
     "base_uri": "https://localhost:8080/"
    },
    "id": "4E5VZ26ULfx6",
    "outputId": "ab9f079f-aa7d-4079-d5fd-4c875cc13373"
   },
   "outputs": [],
   "source": [
    "dpll_satisfiable(expr('P & ~Q'))"
   ]
  },
  {
   "cell_type": "markdown",
   "metadata": {},
   "source": [
    "For this example, if Q is true, P can be either True or False, so this is a minimal model."
   ]
  },
  {
   "cell_type": "code",
   "execution_count": null,
   "metadata": {
    "colab": {
     "base_uri": "https://localhost:8080/"
    },
    "id": "1htAY3z1Lfx6",
    "outputId": "26764a79-e88e-4e79-b263-19902a8443c4"
   },
   "outputs": [],
   "source": [
    "dpll_satisfiable(expr('P ==> Q'))"
   ]
  },
  {
   "cell_type": "markdown",
   "metadata": {},
   "source": [
    "dpll_satisfiable takes a single sentence, but it can be arbitrarily comlex, like this conjunction of three simple expressions"
   ]
  },
  {
   "cell_type": "code",
   "execution_count": null,
   "metadata": {
    "colab": {
     "base_uri": "https://localhost:8080/"
    },
    "id": "_KNcgyE1Lfx6",
    "outputId": "b067872f-f404-4f10-a884-39e7e5236d5a"
   },
   "outputs": [],
   "source": [
    "dpll_satisfiable(expr('P & (P ==> Q) & (~P ==> R)'))"
   ]
  },
  {
   "cell_type": "markdown",
   "metadata": {
    "id": "GRC6dNDpLfx7"
   },
   "source": [
    "The following KB can not be satisfied, since if P is true, then Q must also be true, but the KB says that Q is false."
   ]
  },
  {
   "cell_type": "code",
   "execution_count": null,
   "metadata": {
    "colab": {
     "base_uri": "https://localhost:8080/"
    },
    "id": "TI-UvikmLfx7",
    "outputId": "e50a02ce-5839-4371-fd4f-7b02721480d9"
   },
   "outputs": [],
   "source": [
    "dpll_satisfiable(expr('P & (P ==> Q) & (~P ==> R) & ~Q'))"
   ]
  },
  {
   "cell_type": "markdown",
   "metadata": {
    "id": "_4x3xGDJxtzu"
   },
   "source": [
    "We can also use WalkSAT, a function that uses local search.  It takes a list of clauses and checks for their satisfiability by randomly flipping values of the variables in them.  It returns None if no solution can be found within its alloted flips, which has a default of 10k.  This can often solve larger problems than dpll, but, although it is **sound**, it is not **complete**."
   ]
  },
  {
   "cell_type": "code",
   "execution_count": null,
   "metadata": {
    "colab": {
     "base_uri": "https://localhost:8080/"
    },
    "id": "9_zvD6Q0Lfx7",
    "outputId": "3412a4cc-f4df-4ab8-e207-895f03b5803f"
   },
   "outputs": [],
   "source": [
    "WalkSAT([expr('P & (P ==> Q) & (~P ==> R)')])"
   ]
  },
  {
   "cell_type": "markdown",
   "metadata": {},
   "source": [
    "WalkSAT returns None if it cannot find a model that satisfies the list of expressions.  Of course, Python does not print anything for input that evaluates to None, as the following eample shows."
   ]
  },
  {
   "cell_type": "code",
   "execution_count": null,
   "metadata": {
    "id": "d55FGf34zjT0"
   },
   "outputs": [],
   "source": [
    "WalkSAT([expr('P & (P ==> Q) & (~P ==> R) & ~Q')])"
   ]
  },
  {
   "cell_type": "markdown",
   "metadata": {},
   "source": [
    "Here's a case there the set of sentences is empty, so it shiuld return an empty model in the form of an empty dictionary"
   ]
  },
  {
   "cell_type": "code",
   "execution_count": null,
   "metadata": {},
   "outputs": [],
   "source": [
    "WalkSAT([])"
   ]
  },
  {
   "cell_type": "markdown",
   "metadata": {},
   "source": [
    "We'll creat a new knowledge base for propositional sentences"
   ]
  },
  {
   "cell_type": "code",
   "execution_count": null,
   "metadata": {},
   "outputs": [],
   "source": [
    "kb1 = PropKB()"
   ]
  },
  {
   "cell_type": "markdown",
   "metadata": {},
   "source": [
    "and add several sentences to it"
   ]
  },
  {
   "cell_type": "code",
   "execution_count": null,
   "metadata": {},
   "outputs": [],
   "source": [
    "kb1.tell(expr('P ==> Q'))\n",
    "kb1.tell(expr('Q ==> R'))"
   ]
  },
  {
   "cell_type": "markdown",
   "metadata": {},
   "source": [
    "The KB does not know and cannot infer that R is True"
   ]
  },
  {
   "cell_type": "code",
   "execution_count": null,
   "metadata": {},
   "outputs": [],
   "source": [
    "kb1.ask_if_true(expr('R'))"
   ]
  },
  {
   "cell_type": "markdown",
   "metadata": {},
   "source": [
    "If we add P to the KB, it can infer Q and then R"
   ]
  },
  {
   "cell_type": "code",
   "execution_count": null,
   "metadata": {},
   "outputs": [],
   "source": [
    "kb1.tell(expr('P'))"
   ]
  },
  {
   "cell_type": "code",
   "execution_count": null,
   "metadata": {},
   "outputs": [],
   "source": [
    "kb1.ask_if_true(expr('R'))"
   ]
  },
  {
   "cell_type": "markdown",
   "metadata": {},
   "source": [
    "**fin**"
   ]
  },
  {
   "cell_type": "code",
   "execution_count": null,
   "metadata": {},
   "outputs": [],
   "source": []
  }
 ],
 "metadata": {
  "colab": {
   "collapsed_sections": [],
   "name": "satisfiability.ipynb",
   "provenance": []
  },
  "kernelspec": {
   "display_name": "Python 3 (ipykernel)",
   "language": "python",
   "name": "python3"
  },
  "language_info": {
   "codemirror_mode": {
    "name": "ipython",
    "version": 3
   },
   "file_extension": ".py",
   "mimetype": "text/x-python",
   "name": "python",
   "nbconvert_exporter": "python",
   "pygments_lexer": "ipython3",
   "version": "3.9.7"
  }
 },
 "nbformat": 4,
 "nbformat_minor": 1
}
